{
  "nbformat": 4,
  "nbformat_minor": 0,
  "metadata": {
    "colab": {
      "name": "CancerVariant.ipynb",
      "private_outputs": true,
      "provenance": []
    },
    "kernelspec": {
      "name": "python3",
      "display_name": "Python 3"
    },
    "language_info": {
      "name": "python"
    }
  },
  "cells": [
    {
      "cell_type": "code",
      "execution_count": null,
      "metadata": {
        "id": "5AhN8NyVkDfQ"
      },
      "outputs": [],
      "source": [
        "!pip install pyTigerGraph\n",
        "import requests\n",
        "import json\n",
        "import pyTigerGraph as tg"
      ]
    },
    {
      "cell_type": "code",
      "source": [
        "URL = \"http://myvariant.info/v1/variant/query?q=_exists_:dbsnp&fields=dbsnp.rsid,dbsnp.vartype\" # URL\n",
        "res = requests.get(url = URL).json() # Makes the GET Request\n",
        "print(json.dumps(res, indent = 2)) # Printing the Results"
      ],
      "metadata": {
        "id": "D4LsVdKbkSeU"
      },
      "execution_count": null,
      "outputs": []
    },
    {
      "cell_type": "code",
      "source": [
        "conn = tg.TigerGraphConnection(host=\"https://work23.i.tgcloud.io\", password=\"tigergraph\", gsqlVersion=\"3.0.5\", useCert=True)"
      ],
      "metadata": {
        "id": "kVGxVU5ik3sg"
      },
      "execution_count": null,
      "outputs": []
    },
    {
      "cell_type": "code",
      "source": [
        "# Sets up connection with GSQL\n",
        "print(conn.gsql('ls', options=[]))\n",
        " # Create Edges (POKEMON_TYPE) and Vertices (Pokemon and Type)\n",
        "print(conn.gsql('''CREATE VERTEX Cancers (PRIMARY_ID name STRING) WITH primary_id_as_attribute=\"true\"\n",
        "                    CREATE VERTEX Variants (PRIMARY_ID type STRING) WITH primary_id_as_attribute=\"true\"\n",
        "                    CREATE UNDIRECTED EDGE VARIANT_TYPES (FROM Cancers, TO Variants)''', options=[]))\n",
        "print(conn.gsql('''CREATE GRAPH CancerGraphs(Cancers, Variants, VARIANT_TYPES)''', options=[])) # Create the Graph"
      ],
      "metadata": {
        "id": "PR04vMUgl-Dh"
      },
      "execution_count": null,
      "outputs": []
    },
    {
      "cell_type": "code",
      "source": [
        "conn.graphname = \"CancerGraphs\"\n",
        "conn.apiToken = conn.getToken(conn.createSecret())"
      ],
      "metadata": {
        "id": "7titrB4HmUOg"
      },
      "execution_count": null,
      "outputs": []
    },
    {
      "cell_type": "code",
      "source": [
        "for i in res[\"hits\"]:\n",
        "  conn.upsertVertex(\"Cancers\", i[\"_id\"], attributes={\"name\": i[\"_id\"] })"
      ],
      "metadata": {
        "id": "ur_w6u6UmdIu"
      },
      "execution_count": null,
      "outputs": []
    },
    {
      "cell_type": "code",
      "source": [
        "for ty in res[\"hits\"]:\n",
        "  conn.upsertVertex(\"Variants\", ty[\"dbsnp\"][\"rsid\"], attributes={\"type\": ty[\"dbsnp\"][\"rsid\"] })\n",
        "  conn.upsertEdge(\"Cancers\", ty[\"dbsnp\"][\"vartype\"], \"VARIANT_TYPES\", \"Variants\", ty[\"dbsnp\"][\"vartype\"])"
      ],
      "metadata": {
        "id": "AY621KU-msMk"
      },
      "execution_count": null,
      "outputs": []
    }
  ]
}